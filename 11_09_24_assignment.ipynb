{
  "nbformat": 4,
  "nbformat_minor": 0,
  "metadata": {
    "colab": {
      "provenance": []
    },
    "kernelspec": {
      "name": "python3",
      "display_name": "Python 3"
    },
    "language_info": {
      "name": "python"
    }
  },
  "cells": [
    {
      "cell_type": "markdown",
      "source": [
        "**write a python programme to print your name diagonally within star pattern**"
      ],
      "metadata": {
        "id": "AcwMW9tsDOkf"
      }
    },
    {
      "cell_type": "code",
      "execution_count": 4,
      "metadata": {
        "colab": {
          "base_uri": "https://localhost:8080/"
        },
        "id": "fc0MdaPsAjCf",
        "outputId": "918e3274-884a-4fa9-b721-ee1f4e97aefe"
      },
      "outputs": [
        {
          "output_type": "stream",
          "name": "stdout",
          "text": [
            "enter the number of rows:6\n",
            "* \n",
            "** \n",
            "*** \n",
            "**** \n",
            "***** \n",
            "****** \n"
          ]
        }
      ],
      "source": [
        "num=int(input(\"enter the number of rows:\"))\n",
        "\n",
        "for i in range(0,num):\n",
        "  for j in range(0,i+1):\n",
        "    print(\"*\",end=\"\")\n",
        "  print(\" \")"
      ]
    },
    {
      "cell_type": "code",
      "source": [
        "word = 'NEHA'\n",
        "for i in range(len(word)):\n",
        "  for j in range(0,i+1):\n",
        "    print(\"*\",word[i],end=\"\")\n",
        "  print(\" \")"
      ],
      "metadata": {
        "colab": {
          "base_uri": "https://localhost:8080/"
        },
        "id": "AQejsVASDonD",
        "outputId": "cf3284ac-525b-491b-d92f-adc926649b5b"
      },
      "execution_count": 8,
      "outputs": [
        {
          "output_type": "stream",
          "name": "stdout",
          "text": [
            "* N \n",
            "* E* E \n",
            "* H* H* H \n",
            "* A* A* A* A \n"
          ]
        }
      ]
    },
    {
      "cell_type": "code",
      "source": [
        "word = 'NEHA'\n",
        "for i in range(len(word)):\n",
        "  print(' '*i, word[i])\n",
        "\n"
      ],
      "metadata": {
        "colab": {
          "base_uri": "https://localhost:8080/"
        },
        "id": "Jo-8MRdbBclc",
        "outputId": "ee6208d9-129e-466c-d8d8-9e2f9af5b557"
      },
      "execution_count": 2,
      "outputs": [
        {
          "output_type": "stream",
          "name": "stdout",
          "text": [
            " N\n",
            "  E\n",
            "   H\n",
            "    A\n"
          ]
        }
      ]
    },
    {
      "cell_type": "code",
      "source": [
        "word_length = len(word)\n",
        "for i in range(len(word)):\n",
        "  print(' '*(word_length-i), word[i])\n"
      ],
      "metadata": {
        "colab": {
          "base_uri": "https://localhost:8080/"
        },
        "id": "JEglHMwFCLrH",
        "outputId": "87cdb219-b0e5-4e24-e027-148116b5b3eb"
      },
      "execution_count": 3,
      "outputs": [
        {
          "output_type": "stream",
          "name": "stdout",
          "text": [
            "     N\n",
            "    E\n",
            "   H\n",
            "  A\n"
          ]
        }
      ]
    }
  ]
}